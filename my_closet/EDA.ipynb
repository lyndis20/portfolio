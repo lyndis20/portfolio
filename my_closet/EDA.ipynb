{
 "cells": [
  {
   "cell_type": "code",
   "execution_count": 32,
   "id": "319737d8",
   "metadata": {},
   "outputs": [],
   "source": [
    "import pandas as pd\n",
    "import numpy as np\n",
    "import seaborn as sns\n",
    "import matplotlib.pyplot as plt\n",
    "import koreanize_matplotlib"
   ]
  },
  {
   "cell_type": "code",
   "execution_count": 41,
   "id": "4e0df5a8",
   "metadata": {},
   "outputs": [
    {
     "data": {
      "text/html": [
       "<div>\n",
       "<style scoped>\n",
       "    .dataframe tbody tr th:only-of-type {\n",
       "        vertical-align: middle;\n",
       "    }\n",
       "\n",
       "    .dataframe tbody tr th {\n",
       "        vertical-align: top;\n",
       "    }\n",
       "\n",
       "    .dataframe thead th {\n",
       "        text-align: right;\n",
       "    }\n",
       "</style>\n",
       "<table border=\"1\" class=\"dataframe\">\n",
       "  <thead>\n",
       "    <tr style=\"text-align: right;\">\n",
       "      <th></th>\n",
       "      <th>제품명</th>\n",
       "      <th>계절</th>\n",
       "      <th>구매 년도</th>\n",
       "      <th>카테고리</th>\n",
       "      <th>구매처</th>\n",
       "      <th>\b브랜드여부</th>\n",
       "      <th>구매 전 착용 여부</th>\n",
       "      <th>색상</th>\n",
       "      <th>가격</th>\n",
       "      <th>유행 여부</th>\n",
       "      <th>구매 목적</th>\n",
       "      <th>최근 1년 내 착용 여부</th>\n",
       "      <th>착용 빈도</th>\n",
       "      <th>만족도</th>\n",
       "      <th>주변 평가</th>\n",
       "      <th>성공점수</th>\n",
       "    </tr>\n",
       "  </thead>\n",
       "  <tbody>\n",
       "    <tr>\n",
       "      <th>0</th>\n",
       "      <td>배색 가디건 네이비</td>\n",
       "      <td>봄가을</td>\n",
       "      <td>2021</td>\n",
       "      <td>상의</td>\n",
       "      <td>온라인</td>\n",
       "      <td>보세</td>\n",
       "      <td>1</td>\n",
       "      <td>네이비</td>\n",
       "      <td>3</td>\n",
       "      <td>무난</td>\n",
       "      <td>일상</td>\n",
       "      <td>1</td>\n",
       "      <td>5</td>\n",
       "      <td>5</td>\n",
       "      <td>3</td>\n",
       "      <td>4.333333</td>\n",
       "    </tr>\n",
       "    <tr>\n",
       "      <th>1</th>\n",
       "      <td>배색 가디건 하늘</td>\n",
       "      <td>봄가을</td>\n",
       "      <td>2021</td>\n",
       "      <td>상의</td>\n",
       "      <td>오프라인</td>\n",
       "      <td>보세</td>\n",
       "      <td>1</td>\n",
       "      <td>스카이블루</td>\n",
       "      <td>3</td>\n",
       "      <td>무난</td>\n",
       "      <td>일상</td>\n",
       "      <td>1</td>\n",
       "      <td>3</td>\n",
       "      <td>4</td>\n",
       "      <td>4</td>\n",
       "      <td>3.666667</td>\n",
       "    </tr>\n",
       "    <tr>\n",
       "      <th>2</th>\n",
       "      <td>줄무늬 티셔츠</td>\n",
       "      <td>봄가을</td>\n",
       "      <td>2014</td>\n",
       "      <td>상의</td>\n",
       "      <td>오프라인</td>\n",
       "      <td>보세</td>\n",
       "      <td>0</td>\n",
       "      <td>네이비</td>\n",
       "      <td>1</td>\n",
       "      <td>무난</td>\n",
       "      <td>일상</td>\n",
       "      <td>1</td>\n",
       "      <td>4</td>\n",
       "      <td>5</td>\n",
       "      <td>4</td>\n",
       "      <td>4.333333</td>\n",
       "    </tr>\n",
       "    <tr>\n",
       "      <th>3</th>\n",
       "      <td>파란색 크롭 셔츠</td>\n",
       "      <td>봄가을</td>\n",
       "      <td>2023</td>\n",
       "      <td>상의</td>\n",
       "      <td>온라인</td>\n",
       "      <td>SPA</td>\n",
       "      <td>0</td>\n",
       "      <td>스카이블루</td>\n",
       "      <td>4</td>\n",
       "      <td>유행</td>\n",
       "      <td>일상</td>\n",
       "      <td>1</td>\n",
       "      <td>4</td>\n",
       "      <td>4</td>\n",
       "      <td>4</td>\n",
       "      <td>4.000000</td>\n",
       "    </tr>\n",
       "    <tr>\n",
       "      <th>4</th>\n",
       "      <td>\b숏 트렌치 코트</td>\n",
       "      <td>봄가을</td>\n",
       "      <td>2023</td>\n",
       "      <td>겉옷</td>\n",
       "      <td>오프라인</td>\n",
       "      <td>브랜드</td>\n",
       "      <td>1</td>\n",
       "      <td>베이지</td>\n",
       "      <td>16</td>\n",
       "      <td>유행</td>\n",
       "      <td>일상</td>\n",
       "      <td>1</td>\n",
       "      <td>3</td>\n",
       "      <td>4</td>\n",
       "      <td>3</td>\n",
       "      <td>3.333333</td>\n",
       "    </tr>\n",
       "  </tbody>\n",
       "</table>\n",
       "</div>"
      ],
      "text/plain": [
       "          제품명   계절  구매 년도 카테고리   구매처 \b브랜드여부  구매 전 착용 여부     색상  가격 유행 여부  \\\n",
       "0  배색 가디건 네이비  봄가을   2021   상의   온라인     보세           1    네이비   3    무난   \n",
       "1   배색 가디건 하늘  봄가을   2021   상의  오프라인     보세           1  스카이블루   3    무난   \n",
       "2     줄무늬 티셔츠  봄가을   2014   상의  오프라인     보세           0    네이비   1    무난   \n",
       "3   파란색 크롭 셔츠  봄가을   2023   상의   온라인    SPA           0  스카이블루   4    유행   \n",
       "4   \b숏 트렌치 코트  봄가을   2023   겉옷  오프라인    브랜드           1    베이지  16    유행   \n",
       "\n",
       "  구매 목적  최근 1년 내 착용 여부  착용 빈도  만족도  주변 평가      성공점수  \n",
       "0    일상              1      5    5      3  4.333333  \n",
       "1    일상              1      3    4      4  3.666667  \n",
       "2    일상              1      4    5      4  4.333333  \n",
       "3    일상              1      4    4      4  4.000000  \n",
       "4    일상              1      3    4      3  3.333333  "
      ]
     },
     "execution_count": 41,
     "metadata": {},
     "output_type": "execute_result"
    }
   ],
   "source": [
    "df = pd.read_csv(\"closet_data_v1.csv\")\n",
    "df.head()"
   ]
  },
  {
   "cell_type": "code",
   "execution_count": 42,
   "id": "a846c4ba",
   "metadata": {},
   "outputs": [
    {
     "data": {
      "text/plain": [
       "(150, 16)"
      ]
     },
     "execution_count": 42,
     "metadata": {},
     "output_type": "execute_result"
    }
   ],
   "source": [
    "df.shape"
   ]
  },
  {
   "cell_type": "code",
   "execution_count": 43,
   "id": "98d2ffa6",
   "metadata": {},
   "outputs": [
    {
     "data": {
      "text/html": [
       "<div>\n",
       "<style scoped>\n",
       "    .dataframe tbody tr th:only-of-type {\n",
       "        vertical-align: middle;\n",
       "    }\n",
       "\n",
       "    .dataframe tbody tr th {\n",
       "        vertical-align: top;\n",
       "    }\n",
       "\n",
       "    .dataframe thead th {\n",
       "        text-align: right;\n",
       "    }\n",
       "</style>\n",
       "<table border=\"1\" class=\"dataframe\">\n",
       "  <thead>\n",
       "    <tr style=\"text-align: right;\">\n",
       "      <th></th>\n",
       "      <th>구매 년도</th>\n",
       "      <th>구매 전 착용 여부</th>\n",
       "      <th>가격</th>\n",
       "      <th>최근 1년 내 착용 여부</th>\n",
       "      <th>착용 빈도</th>\n",
       "      <th>만족도</th>\n",
       "      <th>주변 평가</th>\n",
       "      <th>성공점수</th>\n",
       "    </tr>\n",
       "  </thead>\n",
       "  <tbody>\n",
       "    <tr>\n",
       "      <th>count</th>\n",
       "      <td>150.000000</td>\n",
       "      <td>150.000000</td>\n",
       "      <td>150.000000</td>\n",
       "      <td>150.000000</td>\n",
       "      <td>150.000000</td>\n",
       "      <td>150.000000</td>\n",
       "      <td>150.000000</td>\n",
       "      <td>150.000000</td>\n",
       "    </tr>\n",
       "    <tr>\n",
       "      <th>mean</th>\n",
       "      <td>2020.786667</td>\n",
       "      <td>0.426667</td>\n",
       "      <td>4.980000</td>\n",
       "      <td>0.700000</td>\n",
       "      <td>2.646667</td>\n",
       "      <td>3.500000</td>\n",
       "      <td>3.506667</td>\n",
       "      <td>3.217778</td>\n",
       "    </tr>\n",
       "    <tr>\n",
       "      <th>std</th>\n",
       "      <td>1.770704</td>\n",
       "      <td>0.496250</td>\n",
       "      <td>3.551103</td>\n",
       "      <td>0.459793</td>\n",
       "      <td>1.351791</td>\n",
       "      <td>1.133682</td>\n",
       "      <td>0.917735</td>\n",
       "      <td>0.947532</td>\n",
       "    </tr>\n",
       "    <tr>\n",
       "      <th>min</th>\n",
       "      <td>2014.000000</td>\n",
       "      <td>0.000000</td>\n",
       "      <td>1.000000</td>\n",
       "      <td>0.000000</td>\n",
       "      <td>1.000000</td>\n",
       "      <td>1.000000</td>\n",
       "      <td>1.000000</td>\n",
       "      <td>1.000000</td>\n",
       "    </tr>\n",
       "    <tr>\n",
       "      <th>25%</th>\n",
       "      <td>2020.000000</td>\n",
       "      <td>0.000000</td>\n",
       "      <td>3.000000</td>\n",
       "      <td>0.000000</td>\n",
       "      <td>1.000000</td>\n",
       "      <td>3.000000</td>\n",
       "      <td>3.000000</td>\n",
       "      <td>2.666667</td>\n",
       "    </tr>\n",
       "    <tr>\n",
       "      <th>50%</th>\n",
       "      <td>2021.000000</td>\n",
       "      <td>0.000000</td>\n",
       "      <td>4.000000</td>\n",
       "      <td>1.000000</td>\n",
       "      <td>3.000000</td>\n",
       "      <td>3.000000</td>\n",
       "      <td>3.000000</td>\n",
       "      <td>3.333333</td>\n",
       "    </tr>\n",
       "    <tr>\n",
       "      <th>75%</th>\n",
       "      <td>2022.000000</td>\n",
       "      <td>1.000000</td>\n",
       "      <td>5.000000</td>\n",
       "      <td>1.000000</td>\n",
       "      <td>4.000000</td>\n",
       "      <td>4.000000</td>\n",
       "      <td>4.000000</td>\n",
       "      <td>4.000000</td>\n",
       "    </tr>\n",
       "    <tr>\n",
       "      <th>max</th>\n",
       "      <td>2023.000000</td>\n",
       "      <td>1.000000</td>\n",
       "      <td>20.000000</td>\n",
       "      <td>1.000000</td>\n",
       "      <td>5.000000</td>\n",
       "      <td>5.000000</td>\n",
       "      <td>5.000000</td>\n",
       "      <td>5.000000</td>\n",
       "    </tr>\n",
       "  </tbody>\n",
       "</table>\n",
       "</div>"
      ],
      "text/plain": [
       "             구매 년도  구매 전 착용 여부          가격  최근 1년 내 착용 여부       착용 빈도  \\\n",
       "count   150.000000  150.000000  150.000000     150.000000  150.000000   \n",
       "mean   2020.786667    0.426667    4.980000       0.700000    2.646667   \n",
       "std       1.770704    0.496250    3.551103       0.459793    1.351791   \n",
       "min    2014.000000    0.000000    1.000000       0.000000    1.000000   \n",
       "25%    2020.000000    0.000000    3.000000       0.000000    1.000000   \n",
       "50%    2021.000000    0.000000    4.000000       1.000000    3.000000   \n",
       "75%    2022.000000    1.000000    5.000000       1.000000    4.000000   \n",
       "max    2023.000000    1.000000   20.000000       1.000000    5.000000   \n",
       "\n",
       "              만족도       주변 평가        성공점수  \n",
       "count  150.000000  150.000000  150.000000  \n",
       "mean     3.500000    3.506667    3.217778  \n",
       "std      1.133682    0.917735    0.947532  \n",
       "min      1.000000    1.000000    1.000000  \n",
       "25%      3.000000    3.000000    2.666667  \n",
       "50%      3.000000    3.000000    3.333333  \n",
       "75%      4.000000    4.000000    4.000000  \n",
       "max      5.000000    5.000000    5.000000  "
      ]
     },
     "execution_count": 43,
     "metadata": {},
     "output_type": "execute_result"
    }
   ],
   "source": [
    "df.describe()"
   ]
  },
  {
   "cell_type": "code",
   "execution_count": 44,
   "id": "45f46cae",
   "metadata": {},
   "outputs": [
    {
     "data": {
      "text/html": [
       "<div>\n",
       "<style scoped>\n",
       "    .dataframe tbody tr th:only-of-type {\n",
       "        vertical-align: middle;\n",
       "    }\n",
       "\n",
       "    .dataframe tbody tr th {\n",
       "        vertical-align: top;\n",
       "    }\n",
       "\n",
       "    .dataframe thead th {\n",
       "        text-align: right;\n",
       "    }\n",
       "</style>\n",
       "<table border=\"1\" class=\"dataframe\">\n",
       "  <thead>\n",
       "    <tr style=\"text-align: right;\">\n",
       "      <th></th>\n",
       "      <th>제품명</th>\n",
       "      <th>계절</th>\n",
       "      <th>카테고리</th>\n",
       "      <th>구매처</th>\n",
       "      <th>\b브랜드여부</th>\n",
       "      <th>색상</th>\n",
       "      <th>유행 여부</th>\n",
       "      <th>구매 목적</th>\n",
       "    </tr>\n",
       "  </thead>\n",
       "  <tbody>\n",
       "    <tr>\n",
       "      <th>count</th>\n",
       "      <td>150</td>\n",
       "      <td>150</td>\n",
       "      <td>150</td>\n",
       "      <td>150</td>\n",
       "      <td>150</td>\n",
       "      <td>150</td>\n",
       "      <td>150</td>\n",
       "      <td>150</td>\n",
       "    </tr>\n",
       "    <tr>\n",
       "      <th>unique</th>\n",
       "      <td>150</td>\n",
       "      <td>3</td>\n",
       "      <td>5</td>\n",
       "      <td>2</td>\n",
       "      <td>3</td>\n",
       "      <td>18</td>\n",
       "      <td>3</td>\n",
       "      <td>7</td>\n",
       "    </tr>\n",
       "    <tr>\n",
       "      <th>top</th>\n",
       "      <td>배색 가디건 네이비</td>\n",
       "      <td>봄가을</td>\n",
       "      <td>상의</td>\n",
       "      <td>오프라인</td>\n",
       "      <td>보세</td>\n",
       "      <td>블랙</td>\n",
       "      <td>무난</td>\n",
       "      <td>일상</td>\n",
       "    </tr>\n",
       "    <tr>\n",
       "      <th>freq</th>\n",
       "      <td>1</td>\n",
       "      <td>64</td>\n",
       "      <td>82</td>\n",
       "      <td>115</td>\n",
       "      <td>81</td>\n",
       "      <td>30</td>\n",
       "      <td>113</td>\n",
       "      <td>80</td>\n",
       "    </tr>\n",
       "  </tbody>\n",
       "</table>\n",
       "</div>"
      ],
      "text/plain": [
       "               제품명   계절 카테고리   구매처 \b브랜드여부   색상 유행 여부 구매 목적\n",
       "count          150  150  150   150    150  150   150   150\n",
       "unique         150    3    5     2      3   18     3     7\n",
       "top     배색 가디건 네이비  봄가을   상의  오프라인     보세   블랙    무난    일상\n",
       "freq             1   64   82   115     81   30   113    80"
      ]
     },
     "execution_count": 44,
     "metadata": {},
     "output_type": "execute_result"
    }
   ],
   "source": [
    "df.describe(include=\"object\")"
   ]
  },
  {
   "cell_type": "code",
   "execution_count": 45,
   "id": "be003721",
   "metadata": {},
   "outputs": [
    {
     "data": {
      "text/plain": [
       "array([[<AxesSubplot:title={'center':'구매 년도'}>,\n",
       "        <AxesSubplot:title={'center':'구매 전 착용 여부'}>,\n",
       "        <AxesSubplot:title={'center':'가격'}>],\n",
       "       [<AxesSubplot:title={'center':'최근 1년 내 착용 여부'}>,\n",
       "        <AxesSubplot:title={'center':'착용 빈도'}>,\n",
       "        <AxesSubplot:title={'center':'만족도'}>],\n",
       "       [<AxesSubplot:title={'center':'주변 평가'}>,\n",
       "        <AxesSubplot:title={'center':'성공점수'}>, <AxesSubplot:>]],\n",
       "      dtype=object)"
      ]
     },
     "execution_count": 45,
     "metadata": {},
     "output_type": "execute_result"
    },
    {
     "data": {
      "image/png": "[encoded data removed]",
      "text/plain": [
       "<Figure size 864x720 with 9 Axes>"
      ]
     },
     "metadata": {
      "needs_background": "light"
     },
     "output_type": "display_data"
    }
   ],
   "source": [
    "df.hist(bins=10, figsize=(12,10))"
   ]
  },
  {
   "cell_type": "code",
   "execution_count": 46,
   "id": "47d6e864",
   "metadata": {},
   "outputs": [
    {
     "data": {
      "text/plain": [
       "array(['네이비', '스카이블루', '베이지', '데님', '아이보리', '차콜', '블랙', '그레이', '퍼플',\n",
       "       '화이트', '브라운', '그린', '핑크', '블루', '옐로우', '민트', '레드', '카키'],\n",
       "      dtype=object)"
      ]
     },
     "execution_count": 46,
     "metadata": {},
     "output_type": "execute_result"
    }
   ],
   "source": [
    "df[\"색상\"].unique()"
   ]
  },
  {
   "cell_type": "code",
   "execution_count": 47,
   "id": "12066462",
   "metadata": {},
   "outputs": [
    {
     "data": {
      "text/plain": [
       "제품명              150\n",
       "계절                 3\n",
       "구매 년도             10\n",
       "카테고리               5\n",
       "구매처                2\n",
       "\b브랜드여부             3\n",
       "구매 전 착용 여부         2\n",
       "색상                18\n",
       "가격                18\n",
       "유행 여부              3\n",
       "구매 목적              7\n",
       "최근 1년 내 착용 여부      2\n",
       "착용 빈도              5\n",
       "만족도                5\n",
       "주변 평가              5\n",
       "성공점수              13\n",
       "dtype: int64"
      ]
     },
     "execution_count": 47,
     "metadata": {},
     "output_type": "execute_result"
    }
   ],
   "source": [
    "df.nunique()"
   ]
  },
  {
   "cell_type": "code",
   "execution_count": 63,
   "id": "07531ec8",
   "metadata": {},
   "outputs": [
    {
     "data": {
      "text/plain": [
       "<AxesSubplot:>"
      ]
     },
     "execution_count": 63,
     "metadata": {},
     "output_type": "execute_result"
    },
    {
     "data": {
      "image/png": "[encoded data removed]",
      "text/plain": [
       "<Figure size 864x720 with 2 Axes>"
      ]
     },
     "metadata": {
      "needs_background": "light"
     },
     "output_type": "display_data"
    }
   ],
   "source": [
    "df_cor = df.corr()\n",
    "mask = np.triu(np.ones_like(df_cor))\n",
    "plt.figure(figsize=(12,10)) #그래프 사이즈 조절\n",
    "sns.heatmap(df_cor, cmap=\"Spectral\", annot = True, mask=mask)"
   ]
  },
  {
   "cell_type": "code",
   "execution_count": 70,
   "id": "f60a5ba8",
   "metadata": {},
   "outputs": [
    {
     "data": {
      "text/plain": [
       "<AxesSubplot:xlabel='색상', ylabel='count'>"
      ]
     },
     "execution_count": 70,
     "metadata": {},
     "output_type": "execute_result"
    },
    {
     "data": {
      "image/png": "[encoded data removed]",
      "text/plain": [
       "<Figure size 864x288 with 1 Axes>"
      ]
     },
     "metadata": {
      "needs_background": "light"
     },
     "output_type": "display_data"
    }
   ],
   "source": [
    "plt.figure(figsize=(12,4))\n",
    "sns.countplot(data=df, x=\"색상\")"
   ]
  },
  {
   "cell_type": "code",
   "execution_count": null,
   "id": "8f524069",
   "metadata": {},
   "outputs": [],
   "source": [
    "# 색상, 브랜드여부, 구매처, 등에 따른 상관관계 분석은 어떻게 하지...\n"
   ]
  },
  {
   "cell_type": "code",
   "execution_count": null,
   "id": "73bf3ea7",
   "metadata": {},
   "outputs": [],
   "source": [
    "#옷의 RFM구하기 -> 최근에 입었다면 +1 , 자주입는 옷이라면 +1, 비싼 옷이라면 +1(ㅋ)\n"
   ]
  }
 ],
 "metadata": {
  "kernelspec": {
   "display_name": "Python 3 (ipykernel)",
   "language": "python",
   "name": "python3"
  },
  "language_info": {
   "codemirror_mode": {
    "name": "ipython",
    "version": 3
   },
   "file_extension": ".py",
   "mimetype": "text/x-python",
   "name": "python",
   "nbconvert_exporter": "python",
   "pygments_lexer": "ipython3",
   "version": "3.9.12"
  },
  "toc": {
   "base_numbering": 1,
   "nav_menu": {},
   "number_sections": true,
   "sideBar": true,
   "skip_h1_title": false,
   "title_cell": "Table of Contents",
   "title_sidebar": "Contents",
   "toc_cell": false,
   "toc_position": {},
   "toc_section_display": true,
   "toc_window_display": false
  }
 },
 "nbformat": 4,
 "nbformat_minor": 5
}
