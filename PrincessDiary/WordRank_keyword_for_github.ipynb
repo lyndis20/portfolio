{
  "nbformat": 4,
  "nbformat_minor": 0,
  "metadata": {
    "colab": {
      "provenance": []
    },
    "kernelspec": {
      "name": "python3",
      "display_name": "Python 3"
    },
    "language_info": {
      "name": "python"
    }
  },
  "cells": [
    {
      "cell_type": "code",
      "source": [
        "import pandas as pd\n",
        "import numpy as np\n",
        "import tqdm\n",
        "import re\n",
        "import json"
      ],
      "metadata": {
        "id": "tBJyQO6CKblu"
      },
      "execution_count": 4,
      "outputs": []
    },
    {
      "cell_type": "code",
      "source": [
        "# KR-WordRank 설치\n",
        "!pip install krwordrank"
      ],
      "metadata": {
        "colab": {
          "base_uri": "https://localhost:8080/"
        },
        "id": "_wrmg42CMot2",
        "outputId": "877b7b24-e2d6-4b70-fa35-a5cf58712719"
      },
      "execution_count": 6,
      "outputs": [
        {
          "output_type": "stream",
          "name": "stdout",
          "text": [
            "Looking in indexes: https://pypi.org/simple, https://us-python.pkg.dev/colab-wheels/public/simple/\n",
            "Collecting krwordrank\n",
            "  Downloading krwordrank-1.0.3-py3-none-any.whl (20 kB)\n",
            "Requirement already satisfied: scipy>=1.4.1 in /usr/local/lib/python3.9/dist-packages (from krwordrank) (1.10.1)\n",
            "Requirement already satisfied: numpy>=1.18.4 in /usr/local/lib/python3.9/dist-packages (from krwordrank) (1.22.4)\n",
            "Requirement already satisfied: scikit-learn>=0.22.1 in /usr/local/lib/python3.9/dist-packages (from krwordrank) (1.2.2)\n",
            "Requirement already satisfied: joblib>=1.1.1 in /usr/local/lib/python3.9/dist-packages (from scikit-learn>=0.22.1->krwordrank) (1.1.1)\n",
            "Requirement already satisfied: threadpoolctl>=2.0.0 in /usr/local/lib/python3.9/dist-packages (from scikit-learn>=0.22.1->krwordrank) (3.1.0)\n",
            "Installing collected packages: krwordrank\n",
            "Successfully installed krwordrank-1.0.3\n"
          ]
        }
      ]
    },
    {
      "cell_type": "code",
      "source": [
        "from krwordrank.word import KRWordRank\n",
        "from krwordrank.hangle import normalize\n",
        "from krwordrank.word import KRWordRank"
      ],
      "metadata": {
        "id": "Lc0ahEB0TbU0"
      },
      "execution_count": 7,
      "outputs": []
    },
    {
      "cell_type": "code",
      "execution_count": 9,
      "metadata": {
        "colab": {
          "base_uri": "https://localhost:8080/"
        },
        "id": "vXPHiTZRKF4l",
        "outputId": "333ec966-6b87-405b-dcd0-ef6a1312703d"
      },
      "outputs": [
        {
          "output_type": "stream",
          "name": "stdout",
          "text": [
            "Mounted at /content/drive\n"
          ]
        }
      ],
      "source": [
        "from google.colab import drive\n",
        "drive.mount('/content/drive')\n",
        "DATA_PATH = f'/content/drive/MyDrive/data/FPD'"
      ]
    },
    {
      "cell_type": "markdown",
      "source": [
        "# RDASS 점수가 낮은 100개 데이터에 WORDRANK 추출 방법 적용해보기"
      ],
      "metadata": {
        "id": "DCnwvIkeTGQh"
      }
    },
    {
      "cell_type": "code",
      "source": [
        "df = pd.read_csv(f\"{DATA_PATH}/mean_low_score.csv\")"
      ],
      "metadata": {
        "id": "hL4rQivOTS7Z"
      },
      "execution_count": 19,
      "outputs": []
    },
    {
      "cell_type": "code",
      "source": [
        "df.head(2)"
      ],
      "metadata": {
        "colab": {
          "base_uri": "https://localhost:8080/",
          "height": 208
        },
        "id": "t-mXlyeoTmuu",
        "outputId": "c0d5a279-05f7-4018-e42c-74db2476d258"
      },
      "execution_count": 20,
      "outputs": [
        {
          "output_type": "execute_result",
          "data": {
            "text/plain": [
              "   Unnamed: 0                                       title  \\\n",
              "0         774                        [블책]전업주부 부수입 만들기 시작.   \n",
              "1         571  [밴쿠버 Vancouver 일상] 회사 송년식사 Wedgewood Hotel   \n",
              "\n",
              "                                        blog_content  \\\n",
              "0  저는 그동안 좋아하는 일들만 했다면2023년은 잘 하는 일을 하면서 수익을 창출 해...   \n",
              "1  몇일전부터 기대했던 회사 송년식사올해는 장소가#Wedgewood Hotel <end...   \n",
              "\n",
              "                        answer_tags                  new_tags  RDASS_mean  \\\n",
              "0  #블책 #부업하기 #부수입창출 #전업주부부업 #sns마케팅   #전업주부 #부수입 #SNS #육아 #틱톡    0.181967   \n",
              "1       #밴쿠버맛집 #맛집 #캐나다 #밴쿠버 #크리스마스  #밴쿠버 #호텔 #코스요리 #디저트 #하얀눈    0.189568   \n",
              "\n",
              "   content_len  \n",
              "0         1092  \n",
              "1          911  "
            ],
            "text/html": [
              "\n",
              "  <div id=\"df-3c753695-c312-4e57-aab7-15ef9f6efb2f\">\n",
              "    <div class=\"colab-df-container\">\n",
              "      <div>\n",
              "<style scoped>\n",
              "    .dataframe tbody tr th:only-of-type {\n",
              "        vertical-align: middle;\n",
              "    }\n",
              "\n",
              "    .dataframe tbody tr th {\n",
              "        vertical-align: top;\n",
              "    }\n",
              "\n",
              "    .dataframe thead th {\n",
              "        text-align: right;\n",
              "    }\n",
              "</style>\n",
              "<table border=\"1\" class=\"dataframe\">\n",
              "  <thead>\n",
              "    <tr style=\"text-align: right;\">\n",
              "      <th></th>\n",
              "      <th>Unnamed: 0</th>\n",
              "      <th>title</th>\n",
              "      <th>blog_content</th>\n",
              "      <th>answer_tags</th>\n",
              "      <th>new_tags</th>\n",
              "      <th>RDASS_mean</th>\n",
              "      <th>content_len</th>\n",
              "    </tr>\n",
              "  </thead>\n",
              "  <tbody>\n",
              "    <tr>\n",
              "      <th>0</th>\n",
              "      <td>774</td>\n",
              "      <td>[블책]전업주부 부수입 만들기 시작.</td>\n",
              "      <td>저는 그동안 좋아하는 일들만 했다면2023년은 잘 하는 일을 하면서 수익을 창출 해...</td>\n",
              "      <td>#블책 #부업하기 #부수입창출 #전업주부부업 #sns마케팅</td>\n",
              "      <td>#전업주부 #부수입 #SNS #육아 #틱톡</td>\n",
              "      <td>0.181967</td>\n",
              "      <td>1092</td>\n",
              "    </tr>\n",
              "    <tr>\n",
              "      <th>1</th>\n",
              "      <td>571</td>\n",
              "      <td>[밴쿠버 Vancouver 일상] 회사 송년식사 Wedgewood Hotel</td>\n",
              "      <td>몇일전부터 기대했던 회사 송년식사올해는 장소가#Wedgewood Hotel &lt;end...</td>\n",
              "      <td>#밴쿠버맛집 #맛집 #캐나다 #밴쿠버 #크리스마스</td>\n",
              "      <td>#밴쿠버 #호텔 #코스요리 #디저트 #하얀눈</td>\n",
              "      <td>0.189568</td>\n",
              "      <td>911</td>\n",
              "    </tr>\n",
              "  </tbody>\n",
              "</table>\n",
              "</div>\n",
              "      <button class=\"colab-df-convert\" onclick=\"convertToInteractive('df-3c753695-c312-4e57-aab7-15ef9f6efb2f')\"\n",
              "              title=\"Convert this dataframe to an interactive table.\"\n",
              "              style=\"display:none;\">\n",
              "        \n",
              "  <svg xmlns=\"http://www.w3.org/2000/svg\" height=\"24px\"viewBox=\"0 0 24 24\"\n",
              "       width=\"24px\">\n",
              "    <path d=\"M0 0h24v24H0V0z\" fill=\"none\"/>\n",
              "    <path d=\"M18.56 5.44l.94 2.06.94-2.06 2.06-.94-2.06-.94-.94-2.06-.94 2.06-2.06.94zm-11 1L8.5 8.5l.94-2.06 2.06-.94-2.06-.94L8.5 2.5l-.94 2.06-2.06.94zm10 10l.94 2.06.94-2.06 2.06-.94-2.06-.94-.94-2.06-.94 2.06-2.06.94z\"/><path d=\"M17.41 7.96l-1.37-1.37c-.4-.4-.92-.59-1.43-.59-.52 0-1.04.2-1.43.59L10.3 9.45l-7.72 7.72c-.78.78-.78 2.05 0 2.83L4 21.41c.39.39.9.59 1.41.59.51 0 1.02-.2 1.41-.59l7.78-7.78 2.81-2.81c.8-.78.8-2.07 0-2.86zM5.41 20L4 18.59l7.72-7.72 1.47 1.35L5.41 20z\"/>\n",
              "  </svg>\n",
              "      </button>\n",
              "      \n",
              "  <style>\n",
              "    .colab-df-container {\n",
              "      display:flex;\n",
              "      flex-wrap:wrap;\n",
              "      gap: 12px;\n",
              "    }\n",
              "\n",
              "    .colab-df-convert {\n",
              "      background-color: #E8F0FE;\n",
              "      border: none;\n",
              "      border-radius: 50%;\n",
              "      cursor: pointer;\n",
              "      display: none;\n",
              "      fill: #1967D2;\n",
              "      height: 32px;\n",
              "      padding: 0 0 0 0;\n",
              "      width: 32px;\n",
              "    }\n",
              "\n",
              "    .colab-df-convert:hover {\n",
              "      background-color: #E2EBFA;\n",
              "      box-shadow: 0px 1px 2px rgba(60, 64, 67, 0.3), 0px 1px 3px 1px rgba(60, 64, 67, 0.15);\n",
              "      fill: #174EA6;\n",
              "    }\n",
              "\n",
              "    [theme=dark] .colab-df-convert {\n",
              "      background-color: #3B4455;\n",
              "      fill: #D2E3FC;\n",
              "    }\n",
              "\n",
              "    [theme=dark] .colab-df-convert:hover {\n",
              "      background-color: #434B5C;\n",
              "      box-shadow: 0px 1px 3px 1px rgba(0, 0, 0, 0.15);\n",
              "      filter: drop-shadow(0px 1px 2px rgba(0, 0, 0, 0.3));\n",
              "      fill: #FFFFFF;\n",
              "    }\n",
              "  </style>\n",
              "\n",
              "      <script>\n",
              "        const buttonEl =\n",
              "          document.querySelector('#df-3c753695-c312-4e57-aab7-15ef9f6efb2f button.colab-df-convert');\n",
              "        buttonEl.style.display =\n",
              "          google.colab.kernel.accessAllowed ? 'block' : 'none';\n",
              "\n",
              "        async function convertToInteractive(key) {\n",
              "          const element = document.querySelector('#df-3c753695-c312-4e57-aab7-15ef9f6efb2f');\n",
              "          const dataTable =\n",
              "            await google.colab.kernel.invokeFunction('convertToInteractive',\n",
              "                                                     [key], {});\n",
              "          if (!dataTable) return;\n",
              "\n",
              "          const docLinkHtml = 'Like what you see? Visit the ' +\n",
              "            '<a target=\"_blank\" href=https://colab.research.google.com/notebooks/data_table.ipynb>data table notebook</a>'\n",
              "            + ' to learn more about interactive tables.';\n",
              "          element.innerHTML = '';\n",
              "          dataTable['output_type'] = 'display_data';\n",
              "          await google.colab.output.renderOutput(dataTable, element);\n",
              "          const docLink = document.createElement('div');\n",
              "          docLink.innerHTML = docLinkHtml;\n",
              "          element.appendChild(docLink);\n",
              "        }\n",
              "      </script>\n",
              "    </div>\n",
              "  </div>\n",
              "  "
            ]
          },
          "metadata": {},
          "execution_count": 20
        }
      ]
    },
    {
      "cell_type": "code",
      "source": [
        "# 텍스트 데이터 전처리 함수\n",
        "\n",
        "def preprocessing(text):\n",
        "    # 한글, 영문, 숫자만 남기고 모두 제거합니다.\n",
        "    text = re.sub('[^가-힣ㄱ-ㅎㅏ-ㅣa-z ]', '', text)\n",
        "    # 중복으로 생성된 공백값을 제거합니다.\n",
        "    text = re.sub('[\\s]+', ' ', text)\n",
        "    # 영문자를 소문자로 만듭니다.\n",
        "    text = text.lower()\n",
        "    return text"
      ],
      "metadata": {
        "id": "VNLGu5jGT6QB"
      },
      "execution_count": 23,
      "outputs": []
    },
    {
      "cell_type": "code",
      "source": [
        "df['blog_content'] = df['blog_content'].map(preprocessing)"
      ],
      "metadata": {
        "id": "jaGlAvK_T7Hh"
      },
      "execution_count": 24,
      "outputs": []
    },
    {
      "cell_type": "code",
      "source": [
        "df.head()"
      ],
      "metadata": {
        "colab": {
          "base_uri": "https://localhost:8080/",
          "height": 354
        },
        "id": "IhcQREJbUfA0",
        "outputId": "0d73ca7c-55df-4d5d-c2cb-406944d16dd3"
      },
      "execution_count": 25,
      "outputs": [
        {
          "output_type": "execute_result",
          "data": {
            "text/plain": [
              "   Unnamed: 0                                       title  \\\n",
              "0         774                        [블책]전업주부 부수입 만들기 시작.   \n",
              "1         571  [밴쿠버 Vancouver 일상] 회사 송년식사 Wedgewood Hotel   \n",
              "2         843                             오늘의 루틴, 12월 22일   \n",
              "3         679                                  종강 직후의 나날들   \n",
              "4         887                           Dec: 즐거운 연말 시작 -♥   \n",
              "\n",
              "                                        blog_content  \\\n",
              "0  저는 그동안 좋아하는 일들만 했다면년은 잘 하는 일을 하면서 수익을 창출 해야겠다는...   \n",
              "1  몇일전부터 기대했던 회사 송년식사올해는 장소가edgewood otel end성급 호...   \n",
              "2  오늘의 핫 이슈endendend취득세 중과 완화주택 주택 법인 양도세 중과 배제 연...   \n",
              "3  일기 일상 대학생 왠지 블로그 글을 오랜만에 적는 기분이다 사실 오랜만 맞음종강은 ...   \n",
              "4  짠 end 유부초밥이 너무 땡겨서 도시락 싸가기 성공 end근데 학원 너무 추워서 ...   \n",
              "\n",
              "                        answer_tags                      new_tags  RDASS_mean  \\\n",
              "0  #블책 #부업하기 #부수입창출 #전업주부부업 #sns마케팅       #전업주부 #부수입 #SNS #육아 #틱톡    0.181967   \n",
              "1       #밴쿠버맛집 #맛집 #캐나다 #밴쿠버 #크리스마스      #밴쿠버 #호텔 #코스요리 #디저트 #하얀눈    0.189568   \n",
              "2    #신문읽기 #공부하는엄마 #육아맘 #성공습관 #한국경제  #취득세 #양도세 #단기양도세율 #코로나 #감염증상    0.219899   \n",
              "3          #가타부타 #참치포케 #우니 #삼각지 #카페  #인턴 #삼각지 #영화관 #피그위스키센트밤 #종강     0.225414   \n",
              "4      #빌라인아파트 #퀙스 #quew #구월동카페 #카페        #연말 #왕트리 #짝꿍집 #눈사람 #카페    0.231139   \n",
              "\n",
              "   content_len  \n",
              "0         1092  \n",
              "1          911  \n",
              "2          857  \n",
              "3         1617  \n",
              "4         1275  "
            ],
            "text/html": [
              "\n",
              "  <div id=\"df-3e26f00e-7a8a-4545-ab14-fbfe4024c137\">\n",
              "    <div class=\"colab-df-container\">\n",
              "      <div>\n",
              "<style scoped>\n",
              "    .dataframe tbody tr th:only-of-type {\n",
              "        vertical-align: middle;\n",
              "    }\n",
              "\n",
              "    .dataframe tbody tr th {\n",
              "        vertical-align: top;\n",
              "    }\n",
              "\n",
              "    .dataframe thead th {\n",
              "        text-align: right;\n",
              "    }\n",
              "</style>\n",
              "<table border=\"1\" class=\"dataframe\">\n",
              "  <thead>\n",
              "    <tr style=\"text-align: right;\">\n",
              "      <th></th>\n",
              "      <th>Unnamed: 0</th>\n",
              "      <th>title</th>\n",
              "      <th>blog_content</th>\n",
              "      <th>answer_tags</th>\n",
              "      <th>new_tags</th>\n",
              "      <th>RDASS_mean</th>\n",
              "      <th>content_len</th>\n",
              "    </tr>\n",
              "  </thead>\n",
              "  <tbody>\n",
              "    <tr>\n",
              "      <th>0</th>\n",
              "      <td>774</td>\n",
              "      <td>[블책]전업주부 부수입 만들기 시작.</td>\n",
              "      <td>저는 그동안 좋아하는 일들만 했다면년은 잘 하는 일을 하면서 수익을 창출 해야겠다는...</td>\n",
              "      <td>#블책 #부업하기 #부수입창출 #전업주부부업 #sns마케팅</td>\n",
              "      <td>#전업주부 #부수입 #SNS #육아 #틱톡</td>\n",
              "      <td>0.181967</td>\n",
              "      <td>1092</td>\n",
              "    </tr>\n",
              "    <tr>\n",
              "      <th>1</th>\n",
              "      <td>571</td>\n",
              "      <td>[밴쿠버 Vancouver 일상] 회사 송년식사 Wedgewood Hotel</td>\n",
              "      <td>몇일전부터 기대했던 회사 송년식사올해는 장소가edgewood otel end성급 호...</td>\n",
              "      <td>#밴쿠버맛집 #맛집 #캐나다 #밴쿠버 #크리스마스</td>\n",
              "      <td>#밴쿠버 #호텔 #코스요리 #디저트 #하얀눈</td>\n",
              "      <td>0.189568</td>\n",
              "      <td>911</td>\n",
              "    </tr>\n",
              "    <tr>\n",
              "      <th>2</th>\n",
              "      <td>843</td>\n",
              "      <td>오늘의 루틴, 12월 22일</td>\n",
              "      <td>오늘의 핫 이슈endendend취득세 중과 완화주택 주택 법인 양도세 중과 배제 연...</td>\n",
              "      <td>#신문읽기 #공부하는엄마 #육아맘 #성공습관 #한국경제</td>\n",
              "      <td>#취득세 #양도세 #단기양도세율 #코로나 #감염증상</td>\n",
              "      <td>0.219899</td>\n",
              "      <td>857</td>\n",
              "    </tr>\n",
              "    <tr>\n",
              "      <th>3</th>\n",
              "      <td>679</td>\n",
              "      <td>종강 직후의 나날들</td>\n",
              "      <td>일기 일상 대학생 왠지 블로그 글을 오랜만에 적는 기분이다 사실 오랜만 맞음종강은 ...</td>\n",
              "      <td>#가타부타 #참치포케 #우니 #삼각지 #카페</td>\n",
              "      <td>#인턴 #삼각지 #영화관 #피그위스키센트밤 #종강</td>\n",
              "      <td>0.225414</td>\n",
              "      <td>1617</td>\n",
              "    </tr>\n",
              "    <tr>\n",
              "      <th>4</th>\n",
              "      <td>887</td>\n",
              "      <td>Dec: 즐거운 연말 시작 -♥</td>\n",
              "      <td>짠 end 유부초밥이 너무 땡겨서 도시락 싸가기 성공 end근데 학원 너무 추워서 ...</td>\n",
              "      <td>#빌라인아파트 #퀙스 #quew #구월동카페 #카페</td>\n",
              "      <td>#연말 #왕트리 #짝꿍집 #눈사람 #카페</td>\n",
              "      <td>0.231139</td>\n",
              "      <td>1275</td>\n",
              "    </tr>\n",
              "  </tbody>\n",
              "</table>\n",
              "</div>\n",
              "      <button class=\"colab-df-convert\" onclick=\"convertToInteractive('df-3e26f00e-7a8a-4545-ab14-fbfe4024c137')\"\n",
              "              title=\"Convert this dataframe to an interactive table.\"\n",
              "              style=\"display:none;\">\n",
              "        \n",
              "  <svg xmlns=\"http://www.w3.org/2000/svg\" height=\"24px\"viewBox=\"0 0 24 24\"\n",
              "       width=\"24px\">\n",
              "    <path d=\"M0 0h24v24H0V0z\" fill=\"none\"/>\n",
              "    <path d=\"M18.56 5.44l.94 2.06.94-2.06 2.06-.94-2.06-.94-.94-2.06-.94 2.06-2.06.94zm-11 1L8.5 8.5l.94-2.06 2.06-.94-2.06-.94L8.5 2.5l-.94 2.06-2.06.94zm10 10l.94 2.06.94-2.06 2.06-.94-2.06-.94-.94-2.06-.94 2.06-2.06.94z\"/><path d=\"M17.41 7.96l-1.37-1.37c-.4-.4-.92-.59-1.43-.59-.52 0-1.04.2-1.43.59L10.3 9.45l-7.72 7.72c-.78.78-.78 2.05 0 2.83L4 21.41c.39.39.9.59 1.41.59.51 0 1.02-.2 1.41-.59l7.78-7.78 2.81-2.81c.8-.78.8-2.07 0-2.86zM5.41 20L4 18.59l7.72-7.72 1.47 1.35L5.41 20z\"/>\n",
              "  </svg>\n",
              "      </button>\n",
              "      \n",
              "  <style>\n",
              "    .colab-df-container {\n",
              "      display:flex;\n",
              "      flex-wrap:wrap;\n",
              "      gap: 12px;\n",
              "    }\n",
              "\n",
              "    .colab-df-convert {\n",
              "      background-color: #E8F0FE;\n",
              "      border: none;\n",
              "      border-radius: 50%;\n",
              "      cursor: pointer;\n",
              "      display: none;\n",
              "      fill: #1967D2;\n",
              "      height: 32px;\n",
              "      padding: 0 0 0 0;\n",
              "      width: 32px;\n",
              "    }\n",
              "\n",
              "    .colab-df-convert:hover {\n",
              "      background-color: #E2EBFA;\n",
              "      box-shadow: 0px 1px 2px rgba(60, 64, 67, 0.3), 0px 1px 3px 1px rgba(60, 64, 67, 0.15);\n",
              "      fill: #174EA6;\n",
              "    }\n",
              "\n",
              "    [theme=dark] .colab-df-convert {\n",
              "      background-color: #3B4455;\n",
              "      fill: #D2E3FC;\n",
              "    }\n",
              "\n",
              "    [theme=dark] .colab-df-convert:hover {\n",
              "      background-color: #434B5C;\n",
              "      box-shadow: 0px 1px 3px 1px rgba(0, 0, 0, 0.15);\n",
              "      filter: drop-shadow(0px 1px 2px rgba(0, 0, 0, 0.3));\n",
              "      fill: #FFFFFF;\n",
              "    }\n",
              "  </style>\n",
              "\n",
              "      <script>\n",
              "        const buttonEl =\n",
              "          document.querySelector('#df-3e26f00e-7a8a-4545-ab14-fbfe4024c137 button.colab-df-convert');\n",
              "        buttonEl.style.display =\n",
              "          google.colab.kernel.accessAllowed ? 'block' : 'none';\n",
              "\n",
              "        async function convertToInteractive(key) {\n",
              "          const element = document.querySelector('#df-3e26f00e-7a8a-4545-ab14-fbfe4024c137');\n",
              "          const dataTable =\n",
              "            await google.colab.kernel.invokeFunction('convertToInteractive',\n",
              "                                                     [key], {});\n",
              "          if (!dataTable) return;\n",
              "\n",
              "          const docLinkHtml = 'Like what you see? Visit the ' +\n",
              "            '<a target=\"_blank\" href=https://colab.research.google.com/notebooks/data_table.ipynb>data table notebook</a>'\n",
              "            + ' to learn more about interactive tables.';\n",
              "          element.innerHTML = '';\n",
              "          dataTable['output_type'] = 'display_data';\n",
              "          await google.colab.output.renderOutput(dataTable, element);\n",
              "          const docLink = document.createElement('div');\n",
              "          docLink.innerHTML = docLinkHtml;\n",
              "          element.appendChild(docLink);\n",
              "        }\n",
              "      </script>\n",
              "    </div>\n",
              "  </div>\n",
              "  "
            ]
          },
          "metadata": {},
          "execution_count": 25
        }
      ]
    },
    {
      "cell_type": "code",
      "source": [
        "# 문장 단위로 분리\n",
        "df['sentence_lst'] = df['blog_content'].str.split('end')"
      ],
      "metadata": {
        "id": "cKO4NUrETrBW"
      },
      "execution_count": 27,
      "outputs": []
    },
    {
      "cell_type": "code",
      "source": [
        "# 나눠질때 na값으로 나눠진 데이터 채우기\n",
        "df = df.fillna('')"
      ],
      "metadata": {
        "id": "0Pk6cwCITs1e"
      },
      "execution_count": 28,
      "outputs": []
    },
    {
      "cell_type": "code",
      "source": [
        "# 문장 분리할때 공백이 발생하여 제거하는 함수 생성\n",
        "def remove_blank(lst):\n",
        "    return [v for v in lst if v]"
      ],
      "metadata": {
        "id": "ZmiBJqHoeTtg"
      },
      "execution_count": 30,
      "outputs": []
    },
    {
      "cell_type": "code",
      "source": [
        "# 공백 제거\n",
        "df['sentence_lst'] = df['sentence_lst'].map(remove_blank)"
      ],
      "metadata": {
        "id": "WTkjtCipTvUO"
      },
      "execution_count": 29,
      "outputs": []
    },
    {
      "cell_type": "markdown",
      "source": [
        "# KR-WordRank를 사용한 키워드 추출<br>\n",
        "출처_https://github.com/lovit/KR-WordRank"
      ],
      "metadata": {
        "id": "OsiQnmU5MSET"
      }
    },
    {
      "cell_type": "code",
      "source": [
        "# 빈 리스트 생성\n",
        "wr_list = []"
      ],
      "metadata": {
        "id": "H82RfjbzVqmq"
      },
      "execution_count": 31,
      "outputs": []
    },
    {
      "cell_type": "code",
      "source": [
        "# 1개의 게시물 먼저 확인해보기\n",
        "min_count = 3   # 단어의 최소 출현 빈도수 (그래프 생성 시)\n",
        "max_length = 10 # 단어의 최대 길이\n",
        "verbose = True\n",
        "wordrank_extractor = KRWordRank(min_count, max_length , verbose)\n",
        "\n",
        "beta = 0.85    # PageRank의 decaying factor beta\n",
        "max_iter = 10\n",
        "\n",
        "texts = df['sentence_lst'][0]\n",
        " \n",
        "texts = [normalize(text,english=False , number=True) for text in texts ]\n",
        "keywords, rank, graph = wordrank_extractor.extract(texts, beta, max_iter)\n",
        "\n",
        "for word, r in sorted(keywords.items(), key=lambda x:x[1], reverse=True)[:15]:\n",
        "        print('%8s:\\t%.4f' % (word, r))\n",
        "\n",
        "# remove stopwords\n",
        "\n",
        "stopwords = {'그리고', '있었', '수지', '있어', '정도','제가','것을','것들','하는','인조를','이날은','빨리','나가','길에','남았던','타고','이런','갑자기','함께',\"보냈어요\",\"했다\",'저희','월일','이날','보니'\n",
        "            , '그리','맛있','정말','아주','그렇게','그래서','속에','님의','많은','있습니','좋은','이번에','벌써','많이','살면','이제','했는데','다시','같이','그렇지만','계속땡기는','사실','그래','있고'\n",
        "            ,'하고','관한','위에','있는','또는','너무','오늘의','내가','이렇게','같다','마냥','그런','겪는','만든','저를','해서','저애','아니','다녀왔어요','바로','계속','다행히','여기','오늘','같은'\n",
        "             ,'좋아','근데','왔던','먹는','끊어진','보는','저는','먹었','어제','이거','찍어','거의','이때','우리','없는','어느정도','그래도','한다','갔는','가서','나도','나는','그렇','위해','때가',\n",
        "        '진짜','다른','아닌','역시','써야겠다는','있어서','았었','먹고','합니다','재밌','넘나','그냥','했더니','물어서','해야지','있다','하구','오랜만에','시킨','놓은','간신히','돌아오는길','만들어','지난주에'}\n",
        "passwords = {word:score for word, score in sorted(\n",
        "    keywords.items(), key=lambda x:-x[1])[:300] if not (word in stopwords)}\n",
        "\n",
        "print('num passwords = {}'.format(len(passwords)))\n",
        "print(passwords)\n",
        "print(list(passwords.keys())[:5])\n",
        "\n",
        "\n",
        "# wr_list.append(list(passwords.keys())[:5])\n",
        "# wr_list"
      ],
      "metadata": {
        "colab": {
          "base_uri": "https://localhost:8080/"
        },
        "id": "7OMmK6ULLKdK",
        "outputId": "350548e9-3179-43e7-86f6-b93e7e2f0fa9"
      },
      "execution_count": 34,
      "outputs": [
        {
          "output_type": "stream",
          "name": "stdout",
          "text": [
            "scan vocabs ... \n",
            "num vocabs = 90\n",
            "done\n",
            "      제가:\t1.9822\n",
            "      다른:\t1.5681\n",
            "      하는:\t1.5476\n",
            "      것들:\t1.3857\n",
            "      하고:\t1.3658\n",
            "      것을:\t1.3273\n",
            "      위에:\t1.2596\n",
            "      있는:\t1.2292\n",
            "     아이들:\t1.1357\n",
            "      교육:\t1.1274\n",
            "     조회수:\t1.0606\n",
            "     이야기:\t1.0352\n",
            "      좋아:\t0.9777\n",
            "      영상:\t0.9758\n",
            "      관한:\t0.8915\n",
            "num passwords = 11\n",
            "{'아이들': 1.1357004480890254, '교육': 1.1273632453713391, '조회수': 1.0605867508370053, '이야기': 1.035154689691718, '영상': 0.9757642238591199, '일을': 0.8188513756541816, '리뷰': 0.8043849367809524, '게시': 0.7019294757858626, '사람들': 0.670910097326634, '육아': 0.5998405128083298, '생각': 0.5997743691761104}\n",
            "['아이들', '교육', '조회수', '이야기', '영상']\n"
          ]
        }
      ]
    },
    {
      "cell_type": "code",
      "source": [
        "# 파라미터 설정\n",
        "min_count = 5   # 단어의 최소 출현 빈도수 (그래프 생성 시)\n",
        "max_length = 10 # 단어의 최대 길이\n",
        "verbose = False #True\n",
        "wordrank_extractor = KRWordRank(min_count, max_length , verbose)"
      ],
      "metadata": {
        "id": "KiRdonTGODcY"
      },
      "execution_count": 35,
      "outputs": []
    },
    {
      "cell_type": "code",
      "source": [
        "# for문으로 반복해서 전체 키워드 구하는 함수 만들기\n",
        "\n",
        "def make_wr(x):\n",
        "    beta = 0.85    # PageRank의 decaying factor beta\n",
        "    max_iter = 10\n",
        "    texts = x\n",
        "    texts = [normalize(text,english=False , number=True) for text in texts ]\n",
        "    keywords, rank, graph = wordrank_extractor.extract(texts, beta, max_iter)\n",
        "\n",
        "    for word, r in sorted(keywords.items(), key=lambda x:x[1], reverse=True)[:10]:\n",
        "            pass\n",
        "            # print('%8s:\\t%.4f' % (word, r))\n",
        "\n",
        "    # remove stopwords\n",
        "\n",
        "    stopwords = {'그리고', '있었', '수지', '있어', '정도'}\n",
        "    passwords = {word:score for word, score in sorted(\n",
        "            keywords.items(), key=lambda x:-x[1])[:300] if not (word in stopwords)}\n",
        "\n",
        "    # print('num passwords = {}'.format(len(passwords)))\n",
        "    # print(passwords)\n",
        "\n",
        "    return list(passwords.keys())\n"
      ],
      "metadata": {
        "id": "6VeG_8tsNEYZ"
      },
      "execution_count": 37,
      "outputs": []
    },
    {
      "cell_type": "code",
      "source": [
        "make_wr(df['sentence_lst'][1])"
      ],
      "metadata": {
        "colab": {
          "base_uri": "https://localhost:8080/"
        },
        "id": "muyaMY15OnjQ",
        "outputId": "61c287a4-2504-49cb-a41f-397dc0cdc403"
      },
      "execution_count": 38,
      "outputs": [
        {
          "output_type": "execute_result",
          "data": {
            "text/plain": [
              "[]"
            ]
          },
          "metadata": {},
          "execution_count": 38
        }
      ]
    },
    {
      "cell_type": "code",
      "source": [
        "df['sentence_lst']"
      ],
      "metadata": {
        "colab": {
          "base_uri": "https://localhost:8080/"
        },
        "id": "bQEosPwzRM-U",
        "outputId": "0bb6269a-f68b-4810-9946-f4c875eb0bce"
      },
      "execution_count": 39,
      "outputs": [
        {
          "output_type": "execute_result",
          "data": {
            "text/plain": [
              "0     [저는 그동안 좋아하는 일들만 했다면년은 잘 하는 일을 하면서 수익을 창출 해야겠다...\n",
              "1     [몇일전부터 기대했던 회사 송년식사올해는 장소가edgewood otel , 성급 호...\n",
              "2     [오늘의 핫 이슈, 취득세 중과 완화주택 주택 법인 양도세 중과 배제 연장 단기양도...\n",
              "3     [일기 일상 대학생 왠지 블로그 글을 오랜만에 적는 기분이다 사실 오랜만 맞음종강은...\n",
              "4     [짠 ,  유부초밥이 너무 땡겨서 도시락 싸가기 성공 , 근데 학원 너무 추워서 밥...\n",
              "                            ...                        \n",
              "95    [크리스마스 이런 거 있으면짝꿍이 꼭 해보라고 알려주는데결과를 보면 이게 맞는 건가...\n",
              "96    [월엔 항상 하고 싶은게 넘치지만 또 해야될 것도 넘쳐나아직 크리스마스 안 지났으니...\n",
              "97    [지난주 금토 친구들과 함께 다녀온 워커힐호캉스 역시, 성은 좋구나 돈 많이 벌어야...\n",
              "98    [귀염뽀쟉 예리미소희 보러 서울 간다tx 진짜 오랜만대학갈려고 처음 탔던거 기억나네...\n",
              "99    [진정으로 권위가 있는 사람은 실수를 인정하는 것을 두려워하지 않는다버트런드 러셀권...\n",
              "Name: sentence_lst, Length: 100, dtype: object"
            ]
          },
          "metadata": {},
          "execution_count": 39
        }
      ]
    },
    {
      "cell_type": "code",
      "source": [
        "# 적용하기\n",
        "\n",
        "tqdm.pandas()\n",
        "# df['wordRank'] = df['sentence_lst'].progress_map(make_wr)"
      ],
      "metadata": {
        "colab": {
          "base_uri": "https://localhost:8080/",
          "height": 364
        },
        "id": "JJaRfw8WPUGO",
        "outputId": "fe7ae845-189d-40c9-eefd-7db104fc19a0"
      },
      "execution_count": null,
      "outputs": [
        {
          "output_type": "stream",
          "name": "stderr",
          "text": [
            "  0%|          | 1/5068 [00:00<00:06, 812.53it/s]\n"
          ]
        },
        {
          "output_type": "error",
          "ename": "AttributeError",
          "evalue": "ignored",
          "traceback": [
            "\u001b[0;31m---------------------------------------------------------------------------\u001b[0m",
            "\u001b[0;31mAttributeError\u001b[0m                            Traceback (most recent call last)",
            "\u001b[0;32m<ipython-input-41-9a63d1d352d4>\u001b[0m in \u001b[0;36m<module>\u001b[0;34m\u001b[0m\n\u001b[1;32m      2\u001b[0m \u001b[0mtqdm\u001b[0m\u001b[0;34m.\u001b[0m\u001b[0mpandas\u001b[0m\u001b[0;34m(\u001b[0m\u001b[0;34m)\u001b[0m\u001b[0;34m\u001b[0m\u001b[0;34m\u001b[0m\u001b[0m\n\u001b[1;32m      3\u001b[0m \u001b[0;31m# df['wordRank'] =\u001b[0m\u001b[0;34m\u001b[0m\u001b[0;34m\u001b[0m\u001b[0;34m\u001b[0m\u001b[0m\n\u001b[0;32m----> 4\u001b[0;31m \u001b[0mdf\u001b[0m\u001b[0;34m[\u001b[0m\u001b[0;34m'sentence_lst'\u001b[0m\u001b[0;34m]\u001b[0m\u001b[0;34m.\u001b[0m\u001b[0mprogress_map\u001b[0m\u001b[0;34m(\u001b[0m\u001b[0mmake_wr\u001b[0m\u001b[0;34m)\u001b[0m\u001b[0;34m\u001b[0m\u001b[0;34m\u001b[0m\u001b[0m\n\u001b[0m",
            "\u001b[0;32m/usr/local/lib/python3.8/dist-packages/tqdm/std.py\u001b[0m in \u001b[0;36minner\u001b[0;34m(df, func, *args, **kwargs)\u001b[0m\n\u001b[1;32m    812\u001b[0m                 \u001b[0;31m# on the df using our wrapper (which provides bar updating)\u001b[0m\u001b[0;34m\u001b[0m\u001b[0;34m\u001b[0m\u001b[0;34m\u001b[0m\u001b[0m\n\u001b[1;32m    813\u001b[0m                 \u001b[0;32mtry\u001b[0m\u001b[0;34m:\u001b[0m\u001b[0;34m\u001b[0m\u001b[0;34m\u001b[0m\u001b[0m\n\u001b[0;32m--> 814\u001b[0;31m                     \u001b[0;32mreturn\u001b[0m \u001b[0mgetattr\u001b[0m\u001b[0;34m(\u001b[0m\u001b[0mdf\u001b[0m\u001b[0;34m,\u001b[0m \u001b[0mdf_function\u001b[0m\u001b[0;34m)\u001b[0m\u001b[0;34m(\u001b[0m\u001b[0mwrapper\u001b[0m\u001b[0;34m,\u001b[0m \u001b[0;34m**\u001b[0m\u001b[0mkwargs\u001b[0m\u001b[0;34m)\u001b[0m\u001b[0;34m\u001b[0m\u001b[0;34m\u001b[0m\u001b[0m\n\u001b[0m\u001b[1;32m    815\u001b[0m                 \u001b[0;32mfinally\u001b[0m\u001b[0;34m:\u001b[0m\u001b[0;34m\u001b[0m\u001b[0;34m\u001b[0m\u001b[0m\n\u001b[1;32m    816\u001b[0m                     \u001b[0mt\u001b[0m\u001b[0;34m.\u001b[0m\u001b[0mclose\u001b[0m\u001b[0;34m(\u001b[0m\u001b[0;34m)\u001b[0m\u001b[0;34m\u001b[0m\u001b[0;34m\u001b[0m\u001b[0m\n",
            "\u001b[0;32m/usr/local/lib/python3.8/dist-packages/pandas/core/series.py\u001b[0m in \u001b[0;36mmap\u001b[0;34m(self, arg, na_action)\u001b[0m\n\u001b[1;32m   4159\u001b[0m         \u001b[0mdtype\u001b[0m\u001b[0;34m:\u001b[0m \u001b[0mobject\u001b[0m\u001b[0;34m\u001b[0m\u001b[0;34m\u001b[0m\u001b[0m\n\u001b[1;32m   4160\u001b[0m         \"\"\"\n\u001b[0;32m-> 4161\u001b[0;31m         \u001b[0mnew_values\u001b[0m \u001b[0;34m=\u001b[0m \u001b[0msuper\u001b[0m\u001b[0;34m(\u001b[0m\u001b[0;34m)\u001b[0m\u001b[0;34m.\u001b[0m\u001b[0m_map_values\u001b[0m\u001b[0;34m(\u001b[0m\u001b[0marg\u001b[0m\u001b[0;34m,\u001b[0m \u001b[0mna_action\u001b[0m\u001b[0;34m=\u001b[0m\u001b[0mna_action\u001b[0m\u001b[0;34m)\u001b[0m\u001b[0;34m\u001b[0m\u001b[0;34m\u001b[0m\u001b[0m\n\u001b[0m\u001b[1;32m   4162\u001b[0m         return self._constructor(new_values, index=self.index).__finalize__(\n\u001b[1;32m   4163\u001b[0m             \u001b[0mself\u001b[0m\u001b[0;34m,\u001b[0m \u001b[0mmethod\u001b[0m\u001b[0;34m=\u001b[0m\u001b[0;34m\"map\"\u001b[0m\u001b[0;34m\u001b[0m\u001b[0;34m\u001b[0m\u001b[0m\n",
            "\u001b[0;32m/usr/local/lib/python3.8/dist-packages/pandas/core/base.py\u001b[0m in \u001b[0;36m_map_values\u001b[0;34m(self, mapper, na_action)\u001b[0m\n\u001b[1;32m    868\u001b[0m \u001b[0;34m\u001b[0m\u001b[0m\n\u001b[1;32m    869\u001b[0m         \u001b[0;31m# mapper is a function\u001b[0m\u001b[0;34m\u001b[0m\u001b[0;34m\u001b[0m\u001b[0;34m\u001b[0m\u001b[0m\n\u001b[0;32m--> 870\u001b[0;31m         \u001b[0mnew_values\u001b[0m \u001b[0;34m=\u001b[0m \u001b[0mmap_f\u001b[0m\u001b[0;34m(\u001b[0m\u001b[0mvalues\u001b[0m\u001b[0;34m,\u001b[0m \u001b[0mmapper\u001b[0m\u001b[0;34m)\u001b[0m\u001b[0;34m\u001b[0m\u001b[0;34m\u001b[0m\u001b[0m\n\u001b[0m\u001b[1;32m    871\u001b[0m \u001b[0;34m\u001b[0m\u001b[0m\n\u001b[1;32m    872\u001b[0m         \u001b[0;32mreturn\u001b[0m \u001b[0mnew_values\u001b[0m\u001b[0;34m\u001b[0m\u001b[0;34m\u001b[0m\u001b[0m\n",
            "\u001b[0;32m/usr/local/lib/python3.8/dist-packages/pandas/_libs/lib.pyx\u001b[0m in \u001b[0;36mpandas._libs.lib.map_infer\u001b[0;34m()\u001b[0m\n",
            "\u001b[0;32m/usr/local/lib/python3.8/dist-packages/tqdm/std.py\u001b[0m in \u001b[0;36mwrapper\u001b[0;34m(*args, **kwargs)\u001b[0m\n\u001b[1;32m    807\u001b[0m                     \u001b[0;31m# take a fast or slow code path; so stop when t.total==t.n\u001b[0m\u001b[0;34m\u001b[0m\u001b[0;34m\u001b[0m\u001b[0;34m\u001b[0m\u001b[0m\n\u001b[1;32m    808\u001b[0m                     \u001b[0mt\u001b[0m\u001b[0;34m.\u001b[0m\u001b[0mupdate\u001b[0m\u001b[0;34m(\u001b[0m\u001b[0mn\u001b[0m\u001b[0;34m=\u001b[0m\u001b[0;36m1\u001b[0m \u001b[0;32mif\u001b[0m \u001b[0;32mnot\u001b[0m \u001b[0mt\u001b[0m\u001b[0;34m.\u001b[0m\u001b[0mtotal\u001b[0m \u001b[0;32mor\u001b[0m \u001b[0mt\u001b[0m\u001b[0;34m.\u001b[0m\u001b[0mn\u001b[0m \u001b[0;34m<\u001b[0m \u001b[0mt\u001b[0m\u001b[0;34m.\u001b[0m\u001b[0mtotal\u001b[0m \u001b[0;32melse\u001b[0m \u001b[0;36m0\u001b[0m\u001b[0;34m)\u001b[0m\u001b[0;34m\u001b[0m\u001b[0;34m\u001b[0m\u001b[0m\n\u001b[0;32m--> 809\u001b[0;31m                     \u001b[0;32mreturn\u001b[0m \u001b[0mfunc\u001b[0m\u001b[0;34m(\u001b[0m\u001b[0;34m*\u001b[0m\u001b[0margs\u001b[0m\u001b[0;34m,\u001b[0m \u001b[0;34m**\u001b[0m\u001b[0mkwargs\u001b[0m\u001b[0;34m)\u001b[0m\u001b[0;34m\u001b[0m\u001b[0;34m\u001b[0m\u001b[0m\n\u001b[0m\u001b[1;32m    810\u001b[0m \u001b[0;34m\u001b[0m\u001b[0m\n\u001b[1;32m    811\u001b[0m                 \u001b[0;31m# Apply the provided function (in **kwargs)\u001b[0m\u001b[0;34m\u001b[0m\u001b[0;34m\u001b[0m\u001b[0;34m\u001b[0m\u001b[0m\n",
            "\u001b[0;32m<ipython-input-38-a8a16b9cd202>\u001b[0m in \u001b[0;36mmake_wr\u001b[0;34m(x)\u001b[0m\n\u001b[1;32m      5\u001b[0m     \u001b[0mtexts\u001b[0m \u001b[0;34m=\u001b[0m \u001b[0mx\u001b[0m\u001b[0;34m\u001b[0m\u001b[0;34m\u001b[0m\u001b[0m\n\u001b[1;32m      6\u001b[0m     \u001b[0mtexts\u001b[0m \u001b[0;34m=\u001b[0m \u001b[0;34m[\u001b[0m\u001b[0mnormalize\u001b[0m\u001b[0;34m(\u001b[0m\u001b[0mtext\u001b[0m\u001b[0;34m,\u001b[0m\u001b[0menglish\u001b[0m\u001b[0;34m=\u001b[0m\u001b[0;32mFalse\u001b[0m \u001b[0;34m,\u001b[0m \u001b[0mnumber\u001b[0m\u001b[0;34m=\u001b[0m\u001b[0;32mTrue\u001b[0m\u001b[0;34m)\u001b[0m \u001b[0;32mfor\u001b[0m \u001b[0mtext\u001b[0m \u001b[0;32min\u001b[0m \u001b[0mtexts\u001b[0m \u001b[0;34m]\u001b[0m\u001b[0;34m\u001b[0m\u001b[0;34m\u001b[0m\u001b[0m\n\u001b[0;32m----> 7\u001b[0;31m     \u001b[0mkeywords\u001b[0m\u001b[0;34m,\u001b[0m \u001b[0mrank\u001b[0m\u001b[0;34m,\u001b[0m \u001b[0mgraph\u001b[0m \u001b[0;34m=\u001b[0m \u001b[0mwordrank_extractor\u001b[0m\u001b[0;34m.\u001b[0m\u001b[0mextract\u001b[0m\u001b[0;34m(\u001b[0m\u001b[0mtexts\u001b[0m\u001b[0;34m,\u001b[0m \u001b[0mbeta\u001b[0m\u001b[0;34m,\u001b[0m \u001b[0mmax_iter\u001b[0m\u001b[0;34m)\u001b[0m\u001b[0;34m\u001b[0m\u001b[0;34m\u001b[0m\u001b[0m\n\u001b[0m\u001b[1;32m      8\u001b[0m \u001b[0;34m\u001b[0m\u001b[0m\n\u001b[1;32m      9\u001b[0m     \u001b[0;32mfor\u001b[0m \u001b[0mword\u001b[0m\u001b[0;34m,\u001b[0m \u001b[0mr\u001b[0m \u001b[0;32min\u001b[0m \u001b[0msorted\u001b[0m\u001b[0;34m(\u001b[0m\u001b[0mkeywords\u001b[0m\u001b[0;34m.\u001b[0m\u001b[0mitems\u001b[0m\u001b[0;34m(\u001b[0m\u001b[0;34m)\u001b[0m\u001b[0;34m,\u001b[0m \u001b[0mkey\u001b[0m\u001b[0;34m=\u001b[0m\u001b[0;32mlambda\u001b[0m \u001b[0mx\u001b[0m\u001b[0;34m:\u001b[0m\u001b[0mx\u001b[0m\u001b[0;34m[\u001b[0m\u001b[0;36m1\u001b[0m\u001b[0;34m]\u001b[0m\u001b[0;34m,\u001b[0m \u001b[0mreverse\u001b[0m\u001b[0;34m=\u001b[0m\u001b[0;32mTrue\u001b[0m\u001b[0;34m)\u001b[0m\u001b[0;34m[\u001b[0m\u001b[0;34m:\u001b[0m\u001b[0;36m10\u001b[0m\u001b[0;34m]\u001b[0m\u001b[0;34m:\u001b[0m\u001b[0;34m\u001b[0m\u001b[0;34m\u001b[0m\u001b[0m\n",
            "\u001b[0;32m/usr/local/lib/python3.8/dist-packages/krwordrank/word/_word.py\u001b[0m in \u001b[0;36mextract\u001b[0;34m(self, docs, beta, max_iter, num_keywords, num_rset, vocabulary, bias, rset)\u001b[0m\n\u001b[1;32m    209\u001b[0m         \"\"\"\n\u001b[1;32m    210\u001b[0m \u001b[0;34m\u001b[0m\u001b[0m\n\u001b[0;32m--> 211\u001b[0;31m         \u001b[0mrank\u001b[0m\u001b[0;34m,\u001b[0m \u001b[0mgraph\u001b[0m \u001b[0;34m=\u001b[0m \u001b[0mself\u001b[0m\u001b[0;34m.\u001b[0m\u001b[0mtrain\u001b[0m\u001b[0;34m(\u001b[0m\u001b[0mdocs\u001b[0m\u001b[0;34m,\u001b[0m \u001b[0mbeta\u001b[0m\u001b[0;34m,\u001b[0m \u001b[0mmax_iter\u001b[0m\u001b[0;34m,\u001b[0m \u001b[0mvocabulary\u001b[0m\u001b[0;34m,\u001b[0m \u001b[0mbias\u001b[0m\u001b[0;34m)\u001b[0m\u001b[0;34m\u001b[0m\u001b[0;34m\u001b[0m\u001b[0m\n\u001b[0m\u001b[1;32m    212\u001b[0m \u001b[0;34m\u001b[0m\u001b[0m\n\u001b[1;32m    213\u001b[0m         \u001b[0mlset\u001b[0m \u001b[0;34m=\u001b[0m \u001b[0;34m{\u001b[0m\u001b[0mself\u001b[0m\u001b[0;34m.\u001b[0m\u001b[0mint2token\u001b[0m\u001b[0;34m(\u001b[0m\u001b[0midx\u001b[0m\u001b[0;34m)\u001b[0m\u001b[0;34m[\u001b[0m\u001b[0;36m0\u001b[0m\u001b[0;34m]\u001b[0m\u001b[0;34m:\u001b[0m\u001b[0mr\u001b[0m \u001b[0;32mfor\u001b[0m \u001b[0midx\u001b[0m\u001b[0;34m,\u001b[0m \u001b[0mr\u001b[0m \u001b[0;32min\u001b[0m \u001b[0mrank\u001b[0m\u001b[0;34m.\u001b[0m\u001b[0mitems\u001b[0m\u001b[0;34m(\u001b[0m\u001b[0;34m)\u001b[0m \u001b[0;32mif\u001b[0m \u001b[0mself\u001b[0m\u001b[0;34m.\u001b[0m\u001b[0mint2token\u001b[0m\u001b[0;34m(\u001b[0m\u001b[0midx\u001b[0m\u001b[0;34m)\u001b[0m\u001b[0;34m[\u001b[0m\u001b[0;36m1\u001b[0m\u001b[0;34m]\u001b[0m \u001b[0;34m==\u001b[0m \u001b[0;34m'L'\u001b[0m\u001b[0;34m}\u001b[0m\u001b[0;34m\u001b[0m\u001b[0;34m\u001b[0m\u001b[0m\n",
            "\u001b[0;32m/usr/local/lib/python3.8/dist-packages/krwordrank/word/_word.py\u001b[0m in \u001b[0;36mtrain\u001b[0;34m(self, docs, beta, max_iter, vocabulary, bias)\u001b[0m\n\u001b[1;32m    320\u001b[0m         \u001b[0;32melif\u001b[0m \u001b[0;34m(\u001b[0m\u001b[0;32mnot\u001b[0m \u001b[0mvocabulary\u001b[0m\u001b[0;34m)\u001b[0m\u001b[0;34m:\u001b[0m\u001b[0;34m\u001b[0m\u001b[0;34m\u001b[0m\u001b[0m\n\u001b[1;32m    321\u001b[0m             \u001b[0mself\u001b[0m\u001b[0;34m.\u001b[0m\u001b[0mvocabulary\u001b[0m \u001b[0;34m=\u001b[0m \u001b[0mvocabulary\u001b[0m\u001b[0;34m\u001b[0m\u001b[0;34m\u001b[0m\u001b[0m\n\u001b[0;32m--> 322\u001b[0;31m             \u001b[0mself\u001b[0m\u001b[0;34m.\u001b[0m\u001b[0m_build_index2vocab\u001b[0m\u001b[0;34m(\u001b[0m\u001b[0;34m)\u001b[0m\u001b[0;34m\u001b[0m\u001b[0;34m\u001b[0m\u001b[0m\n\u001b[0m\u001b[1;32m    323\u001b[0m \u001b[0;34m\u001b[0m\u001b[0m\n\u001b[1;32m    324\u001b[0m         \u001b[0mgraph\u001b[0m \u001b[0;34m=\u001b[0m \u001b[0mself\u001b[0m\u001b[0;34m.\u001b[0m\u001b[0m_construct_word_graph\u001b[0m\u001b[0;34m(\u001b[0m\u001b[0mdocs\u001b[0m\u001b[0;34m)\u001b[0m\u001b[0;34m\u001b[0m\u001b[0;34m\u001b[0m\u001b[0m\n",
            "\u001b[0;32m/usr/local/lib/python3.8/dist-packages/krwordrank/word/_word.py\u001b[0m in \u001b[0;36m_build_index2vocab\u001b[0;34m(self)\u001b[0m\n\u001b[1;32m    159\u001b[0m \u001b[0;34m\u001b[0m\u001b[0m\n\u001b[1;32m    160\u001b[0m     \u001b[0;32mdef\u001b[0m \u001b[0m_build_index2vocab\u001b[0m\u001b[0;34m(\u001b[0m\u001b[0mself\u001b[0m\u001b[0;34m)\u001b[0m\u001b[0;34m:\u001b[0m\u001b[0;34m\u001b[0m\u001b[0;34m\u001b[0m\u001b[0m\n\u001b[0;32m--> 161\u001b[0;31m         \u001b[0mself\u001b[0m\u001b[0;34m.\u001b[0m\u001b[0mindex2vocab\u001b[0m \u001b[0;34m=\u001b[0m \u001b[0;34m[\u001b[0m\u001b[0mvocab\u001b[0m \u001b[0;32mfor\u001b[0m \u001b[0mvocab\u001b[0m\u001b[0;34m,\u001b[0m \u001b[0mindex\u001b[0m \u001b[0;32min\u001b[0m \u001b[0msorted\u001b[0m\u001b[0;34m(\u001b[0m\u001b[0mself\u001b[0m\u001b[0;34m.\u001b[0m\u001b[0mvocabulary\u001b[0m\u001b[0;34m.\u001b[0m\u001b[0mitems\u001b[0m\u001b[0;34m(\u001b[0m\u001b[0;34m)\u001b[0m\u001b[0;34m,\u001b[0m \u001b[0mkey\u001b[0m\u001b[0;34m=\u001b[0m\u001b[0;32mlambda\u001b[0m \u001b[0mx\u001b[0m\u001b[0;34m:\u001b[0m\u001b[0mx\u001b[0m\u001b[0;34m[\u001b[0m\u001b[0;36m1\u001b[0m\u001b[0;34m]\u001b[0m\u001b[0;34m)\u001b[0m\u001b[0;34m]\u001b[0m\u001b[0;34m\u001b[0m\u001b[0;34m\u001b[0m\u001b[0m\n\u001b[0m\u001b[1;32m    162\u001b[0m         \u001b[0mself\u001b[0m\u001b[0;34m.\u001b[0m\u001b[0msum_weight\u001b[0m \u001b[0;34m=\u001b[0m \u001b[0mlen\u001b[0m\u001b[0;34m(\u001b[0m\u001b[0mself\u001b[0m\u001b[0;34m.\u001b[0m\u001b[0mindex2vocab\u001b[0m\u001b[0;34m)\u001b[0m\u001b[0;34m\u001b[0m\u001b[0;34m\u001b[0m\u001b[0m\n\u001b[1;32m    163\u001b[0m \u001b[0;34m\u001b[0m\u001b[0m\n",
            "\u001b[0;31mAttributeError\u001b[0m: 'NoneType' object has no attribute 'items'"
          ]
        }
      ]
    },
    {
      "cell_type": "code",
      "source": [
        "# 100개가 모두 완료되었는지 확인하기\n",
        "len(wr_list)"
      ],
      "metadata": {
        "colab": {
          "base_uri": "https://localhost:8080/"
        },
        "id": "EXTR4sjiQkl-",
        "outputId": "ee7186fa-4afb-43ab-87d8-12c0670fabe9"
      },
      "execution_count": null,
      "outputs": [
        {
          "output_type": "execute_result",
          "data": {
            "text/plain": [
              "100"
            ]
          },
          "metadata": {},
          "execution_count": 453
        }
      ]
    },
    {
      "cell_type": "code",
      "source": [
        "# wordrank 컬럼에 값 넣기\n",
        "df['wordrank'] = wr_list"
      ],
      "metadata": {
        "id": "6JB58dpOhg89"
      },
      "execution_count": null,
      "outputs": []
    },
    {
      "cell_type": "code",
      "source": [
        "# 결과 확인하기\n",
        "df.head()"
      ],
      "metadata": {
        "colab": {
          "base_uri": "https://localhost:8080/",
          "height": 389
        },
        "id": "b_HOAo-gh5gD",
        "outputId": "005f88b0-abf4-4f69-b8ef-3e59750f9932"
      },
      "execution_count": null,
      "outputs": [
        {
          "output_type": "execute_result",
          "data": {
            "text/plain": [
              "   Unnamed: 0                                       title  \\\n",
              "0         774                        [블책]전업주부 부수입 만들기 시작.   \n",
              "1         571  [밴쿠버 Vancouver 일상] 회사 송년식사 Wedgewood Hotel   \n",
              "2         843                             오늘의 루틴, 12월 22일   \n",
              "3         679                                  종강 직후의 나날들   \n",
              "4         887                           Dec: 즐거운 연말 시작 -♥   \n",
              "\n",
              "                                        blog_content  \\\n",
              "0  저는 그동안 좋아하는 일들만 했다면년은 잘 하는 일을 하면서 수익을 창출 해야겠다는...   \n",
              "1  몇일전부터 기대했던 회사 송년식사올해는 장소가edgewood otel end성급 호...   \n",
              "2  오늘의 핫 이슈endendend취득세 중과 완화주택 주택 법인 양도세 중과 배제 연...   \n",
              "3  일기 일상 대학생 왠지 블로그 글을 오랜만에 적는 기분이다 사실 오랜만 맞음종강은 ...   \n",
              "4  짠 end 유부초밥이 너무 땡겨서 도시락 싸가기 성공 end근데 학원 너무 추워서 ...   \n",
              "\n",
              "                        answer_tags                      new_tags  RDASS_mean  \\\n",
              "0  #블책 #부업하기 #부수입창출 #전업주부부업 #sns마케팅       #전업주부 #부수입 #SNS #육아 #틱톡    0.181967   \n",
              "1       #밴쿠버맛집 #맛집 #캐나다 #밴쿠버 #크리스마스      #밴쿠버 #호텔 #코스요리 #디저트 #하얀눈    0.189568   \n",
              "2    #신문읽기 #공부하는엄마 #육아맘 #성공습관 #한국경제  #취득세 #양도세 #단기양도세율 #코로나 #감염증상    0.219899   \n",
              "3          #가타부타 #참치포케 #우니 #삼각지 #카페  #인턴 #삼각지 #영화관 #피그위스키센트밤 #종강     0.225414   \n",
              "4      #빌라인아파트 #퀙스 #quew #구월동카페 #카페        #연말 #왕트리 #짝꿍집 #눈사람 #카페    0.231139   \n",
              "\n",
              "   content_len                                       sentence_lst  \\\n",
              "0         1092  [저는 그동안 좋아하는 일들만 했다면년은 잘 하는 일을 하면서 수익을 창출 해야겠다...   \n",
              "1          911  [몇일전부터 기대했던 회사 송년식사올해는 장소가edgewood otel , 성급 호...   \n",
              "2          857  [오늘의 핫 이슈, 취득세 중과 완화주택 주택 법인 양도세 중과 배제 연장 단기양도...   \n",
              "3         1617  [일기 일상 대학생 왠지 블로그 글을 오랜만에 적는 기분이다 사실 오랜만 맞음종강은...   \n",
              "4         1275  [짠 ,  유부초밥이 너무 땡겨서 도시락 싸가기 성공 , 근데 학원 너무 추워서 밥...   \n",
              "\n",
              "                     wordrank  \n",
              "0      [많은, 보다, 조회수, 다른, 교육에]  \n",
              "1  [소고기, 스테이크, 캐나다, 호텔, 브로콜리]  \n",
              "2     [재산세, 아이, 매입임대, 주택, 장기]  \n",
              "3       [용산구, 종강, 시작, 인턴, 영화]  \n",
              "4        [일상, 짝꿍, 아주, 맛있, 진짜]  "
            ],
            "text/html": [
              "\n",
              "  <div id=\"df-7256bd32-6376-46f2-9290-b4d89ea53b17\">\n",
              "    <div class=\"colab-df-container\">\n",
              "      <div>\n",
              "<style scoped>\n",
              "    .dataframe tbody tr th:only-of-type {\n",
              "        vertical-align: middle;\n",
              "    }\n",
              "\n",
              "    .dataframe tbody tr th {\n",
              "        vertical-align: top;\n",
              "    }\n",
              "\n",
              "    .dataframe thead th {\n",
              "        text-align: right;\n",
              "    }\n",
              "</style>\n",
              "<table border=\"1\" class=\"dataframe\">\n",
              "  <thead>\n",
              "    <tr style=\"text-align: right;\">\n",
              "      <th></th>\n",
              "      <th>Unnamed: 0</th>\n",
              "      <th>title</th>\n",
              "      <th>blog_content</th>\n",
              "      <th>answer_tags</th>\n",
              "      <th>new_tags</th>\n",
              "      <th>RDASS_mean</th>\n",
              "      <th>content_len</th>\n",
              "      <th>sentence_lst</th>\n",
              "      <th>wordrank</th>\n",
              "    </tr>\n",
              "  </thead>\n",
              "  <tbody>\n",
              "    <tr>\n",
              "      <th>0</th>\n",
              "      <td>774</td>\n",
              "      <td>[블책]전업주부 부수입 만들기 시작.</td>\n",
              "      <td>저는 그동안 좋아하는 일들만 했다면년은 잘 하는 일을 하면서 수익을 창출 해야겠다는...</td>\n",
              "      <td>#블책 #부업하기 #부수입창출 #전업주부부업 #sns마케팅</td>\n",
              "      <td>#전업주부 #부수입 #SNS #육아 #틱톡</td>\n",
              "      <td>0.181967</td>\n",
              "      <td>1092</td>\n",
              "      <td>[저는 그동안 좋아하는 일들만 했다면년은 잘 하는 일을 하면서 수익을 창출 해야겠다...</td>\n",
              "      <td>[많은, 보다, 조회수, 다른, 교육에]</td>\n",
              "    </tr>\n",
              "    <tr>\n",
              "      <th>1</th>\n",
              "      <td>571</td>\n",
              "      <td>[밴쿠버 Vancouver 일상] 회사 송년식사 Wedgewood Hotel</td>\n",
              "      <td>몇일전부터 기대했던 회사 송년식사올해는 장소가edgewood otel end성급 호...</td>\n",
              "      <td>#밴쿠버맛집 #맛집 #캐나다 #밴쿠버 #크리스마스</td>\n",
              "      <td>#밴쿠버 #호텔 #코스요리 #디저트 #하얀눈</td>\n",
              "      <td>0.189568</td>\n",
              "      <td>911</td>\n",
              "      <td>[몇일전부터 기대했던 회사 송년식사올해는 장소가edgewood otel , 성급 호...</td>\n",
              "      <td>[소고기, 스테이크, 캐나다, 호텔, 브로콜리]</td>\n",
              "    </tr>\n",
              "    <tr>\n",
              "      <th>2</th>\n",
              "      <td>843</td>\n",
              "      <td>오늘의 루틴, 12월 22일</td>\n",
              "      <td>오늘의 핫 이슈endendend취득세 중과 완화주택 주택 법인 양도세 중과 배제 연...</td>\n",
              "      <td>#신문읽기 #공부하는엄마 #육아맘 #성공습관 #한국경제</td>\n",
              "      <td>#취득세 #양도세 #단기양도세율 #코로나 #감염증상</td>\n",
              "      <td>0.219899</td>\n",
              "      <td>857</td>\n",
              "      <td>[오늘의 핫 이슈, 취득세 중과 완화주택 주택 법인 양도세 중과 배제 연장 단기양도...</td>\n",
              "      <td>[재산세, 아이, 매입임대, 주택, 장기]</td>\n",
              "    </tr>\n",
              "    <tr>\n",
              "      <th>3</th>\n",
              "      <td>679</td>\n",
              "      <td>종강 직후의 나날들</td>\n",
              "      <td>일기 일상 대학생 왠지 블로그 글을 오랜만에 적는 기분이다 사실 오랜만 맞음종강은 ...</td>\n",
              "      <td>#가타부타 #참치포케 #우니 #삼각지 #카페</td>\n",
              "      <td>#인턴 #삼각지 #영화관 #피그위스키센트밤 #종강</td>\n",
              "      <td>0.225414</td>\n",
              "      <td>1617</td>\n",
              "      <td>[일기 일상 대학생 왠지 블로그 글을 오랜만에 적는 기분이다 사실 오랜만 맞음종강은...</td>\n",
              "      <td>[용산구, 종강, 시작, 인턴, 영화]</td>\n",
              "    </tr>\n",
              "    <tr>\n",
              "      <th>4</th>\n",
              "      <td>887</td>\n",
              "      <td>Dec: 즐거운 연말 시작 -♥</td>\n",
              "      <td>짠 end 유부초밥이 너무 땡겨서 도시락 싸가기 성공 end근데 학원 너무 추워서 ...</td>\n",
              "      <td>#빌라인아파트 #퀙스 #quew #구월동카페 #카페</td>\n",
              "      <td>#연말 #왕트리 #짝꿍집 #눈사람 #카페</td>\n",
              "      <td>0.231139</td>\n",
              "      <td>1275</td>\n",
              "      <td>[짠 ,  유부초밥이 너무 땡겨서 도시락 싸가기 성공 , 근데 학원 너무 추워서 밥...</td>\n",
              "      <td>[일상, 짝꿍, 아주, 맛있, 진짜]</td>\n",
              "    </tr>\n",
              "  </tbody>\n",
              "</table>\n",
              "</div>\n",
              "      <button class=\"colab-df-convert\" onclick=\"convertToInteractive('df-7256bd32-6376-46f2-9290-b4d89ea53b17')\"\n",
              "              title=\"Convert this dataframe to an interactive table.\"\n",
              "              style=\"display:none;\">\n",
              "        \n",
              "  <svg xmlns=\"http://www.w3.org/2000/svg\" height=\"24px\"viewBox=\"0 0 24 24\"\n",
              "       width=\"24px\">\n",
              "    <path d=\"M0 0h24v24H0V0z\" fill=\"none\"/>\n",
              "    <path d=\"M18.56 5.44l.94 2.06.94-2.06 2.06-.94-2.06-.94-.94-2.06-.94 2.06-2.06.94zm-11 1L8.5 8.5l.94-2.06 2.06-.94-2.06-.94L8.5 2.5l-.94 2.06-2.06.94zm10 10l.94 2.06.94-2.06 2.06-.94-2.06-.94-.94-2.06-.94 2.06-2.06.94z\"/><path d=\"M17.41 7.96l-1.37-1.37c-.4-.4-.92-.59-1.43-.59-.52 0-1.04.2-1.43.59L10.3 9.45l-7.72 7.72c-.78.78-.78 2.05 0 2.83L4 21.41c.39.39.9.59 1.41.59.51 0 1.02-.2 1.41-.59l7.78-7.78 2.81-2.81c.8-.78.8-2.07 0-2.86zM5.41 20L4 18.59l7.72-7.72 1.47 1.35L5.41 20z\"/>\n",
              "  </svg>\n",
              "      </button>\n",
              "      \n",
              "  <style>\n",
              "    .colab-df-container {\n",
              "      display:flex;\n",
              "      flex-wrap:wrap;\n",
              "      gap: 12px;\n",
              "    }\n",
              "\n",
              "    .colab-df-convert {\n",
              "      background-color: #E8F0FE;\n",
              "      border: none;\n",
              "      border-radius: 50%;\n",
              "      cursor: pointer;\n",
              "      display: none;\n",
              "      fill: #1967D2;\n",
              "      height: 32px;\n",
              "      padding: 0 0 0 0;\n",
              "      width: 32px;\n",
              "    }\n",
              "\n",
              "    .colab-df-convert:hover {\n",
              "      background-color: #E2EBFA;\n",
              "      box-shadow: 0px 1px 2px rgba(60, 64, 67, 0.3), 0px 1px 3px 1px rgba(60, 64, 67, 0.15);\n",
              "      fill: #174EA6;\n",
              "    }\n",
              "\n",
              "    [theme=dark] .colab-df-convert {\n",
              "      background-color: #3B4455;\n",
              "      fill: #D2E3FC;\n",
              "    }\n",
              "\n",
              "    [theme=dark] .colab-df-convert:hover {\n",
              "      background-color: #434B5C;\n",
              "      box-shadow: 0px 1px 3px 1px rgba(0, 0, 0, 0.15);\n",
              "      filter: drop-shadow(0px 1px 2px rgba(0, 0, 0, 0.3));\n",
              "      fill: #FFFFFF;\n",
              "    }\n",
              "  </style>\n",
              "\n",
              "      <script>\n",
              "        const buttonEl =\n",
              "          document.querySelector('#df-7256bd32-6376-46f2-9290-b4d89ea53b17 button.colab-df-convert');\n",
              "        buttonEl.style.display =\n",
              "          google.colab.kernel.accessAllowed ? 'block' : 'none';\n",
              "\n",
              "        async function convertToInteractive(key) {\n",
              "          const element = document.querySelector('#df-7256bd32-6376-46f2-9290-b4d89ea53b17');\n",
              "          const dataTable =\n",
              "            await google.colab.kernel.invokeFunction('convertToInteractive',\n",
              "                                                     [key], {});\n",
              "          if (!dataTable) return;\n",
              "\n",
              "          const docLinkHtml = 'Like what you see? Visit the ' +\n",
              "            '<a target=\"_blank\" href=https://colab.research.google.com/notebooks/data_table.ipynb>data table notebook</a>'\n",
              "            + ' to learn more about interactive tables.';\n",
              "          element.innerHTML = '';\n",
              "          dataTable['output_type'] = 'display_data';\n",
              "          await google.colab.output.renderOutput(dataTable, element);\n",
              "          const docLink = document.createElement('div');\n",
              "          docLink.innerHTML = docLinkHtml;\n",
              "          element.appendChild(docLink);\n",
              "        }\n",
              "      </script>\n",
              "    </div>\n",
              "  </div>\n",
              "  "
            ]
          },
          "metadata": {},
          "execution_count": 463
        }
      ]
    },
    {
      "cell_type": "code",
      "source": [
        "# 파일 저장하기\n",
        "df.to_csv(f'{DATA_PATH}/word_rank.csv', index=False)"
      ],
      "metadata": {
        "id": "KISGXNogiiTx"
      },
      "execution_count": null,
      "outputs": []
    }
  ]
}